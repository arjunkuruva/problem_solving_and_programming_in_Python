{
 "cells": [
  {
   "cell_type": "markdown",
   "metadata": {},
   "source": [
    "# Document Title\n",
    "\n",
    "### Date: 30-May-2019\n",
    "### Session Objectives\n",
    "* To Introduce **Jupyter Notebook**\n",
    "* To Teach Markdown System\n",
    "* To Introduce ***Python*** Basics\n",
    "  * Basic Syntax (Variables, Assignments, Data Types)\n",
    "  * Control structures\n",
    "    1. Conditional\n",
    "    2. Repetitive\n",
    "    \n",
    "    ![python logo](http://localhost:8888/tree/problem_solving_and_progrmming_in_Python/Python/python.jpg)\n",
    "  \n",
    "  \n",
    "\n",
    "\n",
    "[Link to my website](https://sites.google.com/view/bitsadoni-python-may-2019/work-log/day-03)\n"
   ]
  },
  {
   "cell_type": "markdown",
   "metadata": {},
   "source": [
    "### Python Basics"
   ]
  },
  {
   "cell_type": "code",
   "execution_count": 36,
   "metadata": {},
   "outputs": [
    {
     "name": "stdout",
     "output_type": "stream",
     "text": [
      "Hello World !\n",
      "HEllo, World !, HelloWorld !\n",
      "What is Your Name?ar\n",
      "ar\n"
     ]
    }
   ],
   "source": [
    "print(\"Hello World !\")  # Single parameter\n",
    "print(\"HEllo,\",\"World !\",end = \", \") #Multiple Parameter\n",
    "print(\"Hello\"+\"World !\") \n",
    "#This line won't be executed\n",
    "\n",
    "name = input(\"What is Your Name?\")\n",
    "print(name)"
   ]
  },
  {
   "cell_type": "code",
   "execution_count": 37,
   "metadata": {},
   "outputs": [
    {
     "name": "stdout",
     "output_type": "stream",
     "text": [
      "Input an Integer:12\n",
      "12\n",
      "144\n"
     ]
    },
    {
     "data": {
      "text/plain": [
       "1728"
      ]
     },
     "execution_count": 37,
     "metadata": {},
     "output_type": "execute_result"
    }
   ],
   "source": [
    "n = int(input(\"Input an Integer:\")) #capture input, cast to int and store in variable\n",
    "print(n)\n",
    "print(n*n)\n",
    "n*n*n #Expression Evaluation using standard operator precedence"
   ]
  },
  {
   "cell_type": "code",
   "execution_count": 38,
   "metadata": {},
   "outputs": [
    {
     "name": "stdout",
     "output_type": "stream",
     "text": [
      "12 \t 12 \n",
      " 12\n"
     ]
    }
   ],
   "source": [
    "a = b = c = n #Chain of Assignments\n",
    "print(a,\"\\t\",b,\"\\n\",c)"
   ]
  },
  {
   "cell_type": "code",
   "execution_count": 39,
   "metadata": {},
   "outputs": [
    {
     "data": {
      "text/plain": [
       "str"
      ]
     },
     "execution_count": 39,
     "metadata": {},
     "output_type": "execute_result"
    }
   ],
   "source": [
    "type(a)   #type Conversion\n",
    "a = str(a)\n",
    "a\n",
    "type(a)"
   ]
  },
  {
   "cell_type": "code",
   "execution_count": 40,
   "metadata": {},
   "outputs": [
    {
     "name": "stdout",
     "output_type": "stream",
     "text": [
      "10 20 30\n",
      "<class 'int'>\n"
     ]
    }
   ],
   "source": [
    "d,e,f=10,20,30 #assigning Multiple values to mutiple variables\n",
    "print(d,e,f)\n",
    "type(d)\n",
    "print(type(e))"
   ]
  },
  {
   "cell_type": "code",
   "execution_count": 52,
   "metadata": {},
   "outputs": [
    {
     "name": "stdout",
     "output_type": "stream",
     "text": [
      "Enter a value:4\n",
      "4\n",
      "4\n",
      "<class 'int'>\n",
      "4\n",
      "<class 'float'>\n"
     ]
    }
   ],
   "source": [
    "x = input(\"Enter a value:\")\n",
    "print(x)\n",
    "\n",
    "int_x = int(x)\n",
    "print(x)\n",
    "print(type(int_x))\n",
    "\n",
    "float_x = float(x)\n",
    "print(x)\n",
    "print(type(float_x))\n",
    "\n"
   ]
  },
  {
   "cell_type": "markdown",
   "metadata": {},
   "source": [
    "#### Higher Order Computation"
   ]
  },
  {
   "cell_type": "code",
   "execution_count": 134,
   "metadata": {},
   "outputs": [
    {
     "name": "stdout",
     "output_type": "stream",
     "text": [
      "2460535781140104173637653659632203571122230528211735052684099498171266012811967651653273156962961864044501410140688011357988219820992511126632035657391233532880084910884888712738429081057677931150284256219901095754103705463986035205617580550687149793705127835587798646661655397882371692536172300621270996188787814627354885692515591522725741398040202920655555966275508114855499308772348323303450075166289875521178599082643995507691983818482260462185571383223251644435609064852815537164479625166432826377689289666505703370514158532627785425618979251948262096329791601441594587588010975921217220697077473738921878932980888525106406241343101894835229899166638462337134475456602739804700102130114826189720971576751130898296132953448555589296854734499107961263735109910578618603765254611798537815367107396064449819660029947567248202970065409533252686215209589574364453353090041751918276607632418908785263077499110273334996668794125324003078824936936974734952557993181961215429470153325628547313944801971885787051402688234289667329771654023675682729893159716454770623931460100793670636455765944986422179201176098660318249661980047868150739734727474539273802308632961585396354465190915794331524660701836429575222555672571140673019747670927863718379945500316836034651028604111604491883125140483475749904594893511689939963570127470472250992921472453307516800357359995663723587410502506615853264194766451891366139051897500883820131322783355244425780660189795654993986230582199824455663356822812725824905056951421725927708936116415909587281968856826037446247166502841459637736451156932058350901212152550103090523068895443013972934003065084057174959987796174504089556868933843467422903066941607327341577466772675234294324417817024575090875305715180048890861742479721573169700147947166704745665880280009020497900647644003535278168130693342951317939287568065603112139509198287862950201901283920892530129026130292507875369241498209209316239478875814347258055580031358432531676422129873685514643093663131605371250467676681691064686621444823068860018747668355945044471285875873927399640756667946958576516304102878272200002331862462239585163498114030349414043888815935039109334633350957561567851210854541240219824246178250612725506289479292196766910465179977342776303033630791839098703383670908842208044157209708504160741888992872078757787519199883111697487199074484344474982998386727155076504471221397420728448605033364224841039207403864268112468114268114894739984334693998999225042714947907451405529369921597858417656209302032388463992008682552660019233523098954855223161530648151874072198831375211928045519264105647868651969201559257746590175357930370775803494028214207058581591135109730063646291025198109234271737640251824199315522082019208909260635913636109487303603458951399447717335408596987350440737452298332626740781090134967660295582582264381809669356116487113624867890455675550454414529147423466610787045742332116730634852560566783055265834644347758598866101134083\n",
      "<class 'int'>\n",
      "2956\n"
     ]
    }
   ],
   "source": [
    "num = 987 ** 987\n",
    "\n",
    "print(num)\n",
    "print(type(num))\n",
    "print(len(str(num)))"
   ]
  },
  {
   "cell_type": "markdown",
   "metadata": {},
   "source": [
    "### String Slicing"
   ]
  },
  {
   "cell_type": "code",
   "execution_count": 66,
   "metadata": {
    "scrolled": true
   },
   "outputs": [
    {
     "name": "stdout",
     "output_type": "stream",
     "text": [
      "y\n",
      "ython Pro\n",
      "hon Programmi\n",
      "g\n",
      "Programming\n",
      "18\n",
      "Programming\n",
      "python\n",
      "gnimmargorP nohtyp\n",
      "gnimmargorP\n",
      " nohtyp\n"
     ]
    }
   ],
   "source": [
    "s1 = \"python Programming\"\n",
    "print(s1[1]) # Array operator - [index] and [start:end-1] is the Slice operator\n",
    "print(s1[1:10]) # Index starts at 0\n",
    "print(s1[3:-2]) #negative indexing also supported\n",
    "print(s1[-1]) # Access last Character\n",
    "print(s1[7:]) # Accessing String from 7th index to last(blank)\n",
    "\n",
    "print(len(s1)) # return the length of a string\n",
    "print(s1[7:len(s1)]) # same as print(s1[7:])\n",
    "print(s1[:6]) #Access first 6 charcters\n",
    "\n",
    "print(s1[::-1]) # prints in Reverse order\n",
    "\n",
    "print(s1[-1:6:-1])# reverse of a substring\n",
    "\n",
    "print(s1[6::-1]) #reverse of a substring python -1 indicates come from back"
   ]
  },
  {
   "cell_type": "code",
   "execution_count": 67,
   "metadata": {
    "scrolled": true
   },
   "outputs": [
    {
     "name": "stdout",
     "output_type": "stream",
     "text": [
      "654\n"
     ]
    }
   ],
   "source": [
    "s2 = \"123456789\"\n",
    "print(s2[5:2:-1]) # Reverse of characters from index 5 to 3"
   ]
  },
  {
   "cell_type": "code",
   "execution_count": 72,
   "metadata": {},
   "outputs": [
    {
     "name": "stdout",
     "output_type": "stream",
     "text": [
      "13579\n",
      "2468\n",
      "97531\n",
      "8642\n"
     ]
    }
   ],
   "source": [
    "print(s2[0:len(s2):2]) # print alternate characters in a string\n",
    "\n",
    "print(s2[1::2]) # print alternate characters\n",
    "\n",
    "print(s2[-1::-2]) # print odd characters in reverse order\n",
    "\n",
    "print(s2[-2::-2])  # print Even characters in reverse order"
   ]
  },
  {
   "cell_type": "markdown",
   "metadata": {},
   "source": [
    "### Functions in Python"
   ]
  },
  {
   "cell_type": "code",
   "execution_count": 76,
   "metadata": {},
   "outputs": [
    {
     "name": "stdout",
     "output_type": "stream",
     "text": [
      "Input First String:hello world\n",
      "Input Second String:good bye world\n",
      "olleH\n",
      "dlrow olleh\n",
      "dlrow eyb doog\n"
     ]
    }
   ],
   "source": [
    "# function to reverse the string\n",
    "\n",
    "s1= input(\"Input First String:\")\n",
    "\n",
    "s2 = input(\"Input Second String:\")\n",
    "\n",
    "def strReverse(s):\n",
    "    return s[::-1]\n",
    "\n",
    "print(strReverse(\"Hello\"))\n",
    "\n",
    "print(strReverse(s1))\n",
    "\n",
    "print(strReverse(s2))"
   ]
  },
  {
   "cell_type": "code",
   "execution_count": 92,
   "metadata": {},
   "outputs": [
    {
     "data": {
      "text/plain": [
       "'lle'"
      ]
     },
     "execution_count": 92,
     "metadata": {},
     "output_type": "execute_result"
    }
   ],
   "source": [
    "# function to reverse the Substring\n",
    "\n",
    "def revSubString(s,start,end):\n",
    "    return s[end:start-1:-1]\n",
    "\n",
    "revSubString(\"Hello\",1,3)"
   ]
  },
  {
   "cell_type": "markdown",
   "metadata": {},
   "source": [
    "### Conditional Statements"
   ]
  },
  {
   "cell_type": "code",
   "execution_count": 104,
   "metadata": {},
   "outputs": [
    {
     "name": "stdout",
     "output_type": "stream",
     "text": [
      "Divisible by 9 and 11\n",
      "None\n",
      "Divisible by 9 and 11 but not 10\n",
      "None\n"
     ]
    }
   ],
   "source": [
    "# Define a funtion to test divisblility by 9 and 11 but not 10\n",
    "\n",
    "def DivTest(n):\n",
    "    if((n%9 == 0 and n%11 == 0) and not(n%10 == 0)):\n",
    "        print (\"Divisible by 9 and 11\")\n",
    "    else:\n",
    "        print(\"Divisible by 9 and 11 but not 10\")\n",
    "    return\n",
    "\n",
    "print(DivTest(99))\n",
    "\n",
    "print(DivTest(990))\n"
   ]
  },
  {
   "cell_type": "code",
   "execution_count": 111,
   "metadata": {},
   "outputs": [
    {
     "data": {
      "text/plain": [
       "8"
      ]
     },
     "execution_count": 111,
     "metadata": {},
     "output_type": "execute_result"
    }
   ],
   "source": [
    "# Recursive function for a power n\n",
    "\n",
    "def PowerN(a,n):\n",
    "    if n == 0:\n",
    "        return 1\n",
    "    else:\n",
    "        return a * PowerN(a,n-1)\n",
    "\n",
    "PowerN(2,3)"
   ]
  },
  {
   "cell_type": "code",
   "execution_count": 122,
   "metadata": {
    "scrolled": true
   },
   "outputs": [
    {
     "name": "stdout",
     "output_type": "stream",
     "text": [
      "True\n",
      "True\n",
      "Polindrome\n",
      "True\n",
      "False\n"
     ]
    }
   ],
   "source": [
    "# Function to check polindrome\n",
    "\n",
    "def Polindrome(s):\n",
    "    if(s == s[::-1]):\n",
    "        return True\n",
    "    else:\n",
    "        return False\n",
    "\n",
    "print(Polindrome(\"malayalam\"))\n",
    "\n",
    "print(Polindrome(\"nitin\"))\n",
    "\n",
    "if(Polindrome(\"liril\")):\n",
    "    print(\"Polindrome\")\n",
    "else:\n",
    "    print(\"Not Polindrome\")\n",
    "\n",
    "print(Polindrome(\"madam\"))\n",
    "\n",
    "print(Polindrome(\"arjun\"))"
   ]
  },
  {
   "cell_type": "markdown",
   "metadata": {},
   "source": [
    "### Iteration Statements in Python:"
   ]
  },
  {
   "cell_type": "code",
   "execution_count": 124,
   "metadata": {},
   "outputs": [
    {
     "name": "stdout",
     "output_type": "stream",
     "text": [
      "14\n",
      "21\n",
      "28\n",
      "35\n",
      "42\n",
      "49\n"
     ]
    }
   ],
   "source": [
    "# Function to generate all multiples of 7 in a given range\n",
    "\n",
    "def Multiples(lb, ub):\n",
    "    for i in range(lb,ub+1,1):\n",
    "        if( i % 7 == 0):\n",
    "            print(i)\n",
    "\n",
    "Multiples(10,50)"
   ]
  },
  {
   "cell_type": "code",
   "execution_count": null,
   "metadata": {},
   "outputs": [],
   "source": [
    "# Function to generate all prime numbers in the range (lb,ub)\n",
    "\n",
    "def generatePrimes(lb,ub):\n",
    "    for i in range(lb,ub+1,1):\n",
    "        count = 0\n",
    "        for j in range(1,i+1,1):\n",
    "            if(i % j == 0):\n",
    "                count = count+1\n",
    "        if(count == 2):\n",
    "            print(i)\n",
    "generatePrimes(10,23)"
   ]
  },
  {
   "cell_type": "markdown",
   "metadata": {},
   "source": [
    "### Python Lists"
   ]
  },
  {
   "cell_type": "code",
   "execution_count": 11,
   "metadata": {},
   "outputs": [
    {
     "data": {
      "text/plain": [
       "4"
      ]
     },
     "execution_count": 11,
     "metadata": {},
     "output_type": "execute_result"
    }
   ],
   "source": [
    "l1 = [1,2,'arjun',12.3]   # Creating a list using []\n",
    "l1[2] # Accessing Element using Indexing\n",
    "\n",
    "l1 # Accessing all elements\n",
    "\n",
    "len(l1) # return length of a list\n",
    "\n"
   ]
  },
  {
   "cell_type": "code",
   "execution_count": 12,
   "metadata": {},
   "outputs": [
    {
     "data": {
      "text/plain": [
       "[1, 2, 'arjun', 12.3, 'arjun']"
      ]
     },
     "execution_count": 12,
     "metadata": {},
     "output_type": "execute_result"
    }
   ],
   "source": [
    "l1.append('arjun') # inserts at the end of a list\n",
    "\n",
    "l1\n",
    "\n"
   ]
  },
  {
   "cell_type": "code",
   "execution_count": 13,
   "metadata": {},
   "outputs": [
    {
     "data": {
      "text/plain": [
       "[1, 2, 'saru', 12.3, 'arjun']"
      ]
     },
     "execution_count": 13,
     "metadata": {},
     "output_type": "execute_result"
    }
   ],
   "source": [
    "l1[2] = 'saru' # Replace an element\n",
    "\n",
    "l1"
   ]
  },
  {
   "cell_type": "code",
   "execution_count": 15,
   "metadata": {},
   "outputs": [
    {
     "data": {
      "text/plain": [
       "[1, ['a', 'b', 'parrot', 12.3], 'saru', 12.3, 'arjun']"
      ]
     },
     "execution_count": 15,
     "metadata": {},
     "output_type": "execute_result"
    }
   ],
   "source": [
    "l1[1] = ['a','b','parrot',12.3] # Creating a nested list\n",
    "l1\n"
   ]
  },
  {
   "cell_type": "code",
   "execution_count": 16,
   "metadata": {},
   "outputs": [
    {
     "data": {
      "text/plain": [
       "['a', 'b', 'parrot', 12.3]"
      ]
     },
     "execution_count": 16,
     "metadata": {},
     "output_type": "execute_result"
    }
   ],
   "source": [
    "l1[1]"
   ]
  },
  {
   "cell_type": "code",
   "execution_count": 17,
   "metadata": {},
   "outputs": [
    {
     "data": {
      "text/plain": [
       "'a'"
      ]
     },
     "execution_count": 17,
     "metadata": {},
     "output_type": "execute_result"
    }
   ],
   "source": [
    "l1[1][0]"
   ]
  },
  {
   "cell_type": "code",
   "execution_count": 19,
   "metadata": {},
   "outputs": [
    {
     "data": {
      "text/plain": [
       "[1, [2020, 2020, 'a', 'b', 'parrot', 12.3], 'saru', 12.3, 'arjun']"
      ]
     },
     "execution_count": 19,
     "metadata": {},
     "output_type": "execute_result"
    }
   ],
   "source": [
    "l1[1].insert(0,2020) # inserts an element at the specified location\n",
    "l1\n"
   ]
  },
  {
   "cell_type": "code",
   "execution_count": 21,
   "metadata": {
    "scrolled": true
   },
   "outputs": [
    {
     "data": {
      "text/plain": [
       "[1, ['a', 'b', 'parrot', 12.3], 'saru', 12.3, 'arjun']"
      ]
     },
     "execution_count": 21,
     "metadata": {},
     "output_type": "execute_result"
    }
   ],
   "source": [
    "l1[1].remove(2020) # removes the specified element\n",
    "l1"
   ]
  },
  {
   "cell_type": "code",
   "execution_count": 23,
   "metadata": {
    "scrolled": true
   },
   "outputs": [
    {
     "data": {
      "text/plain": [
       "[1, [2020, 2020, 'a', 'b', 'parrot', 12.3], 'saru', 12.3, 'arjun']"
      ]
     },
     "execution_count": 23,
     "metadata": {},
     "output_type": "execute_result"
    }
   ],
   "source": [
    "l1[1].insert(0,2020)\n",
    "l1"
   ]
  },
  {
   "cell_type": "code",
   "execution_count": 24,
   "metadata": {
    "scrolled": true
   },
   "outputs": [
    {
     "data": {
      "text/plain": [
       "12.3"
      ]
     },
     "execution_count": 24,
     "metadata": {},
     "output_type": "execute_result"
    }
   ],
   "source": [
    "l1[1].pop()"
   ]
  },
  {
   "cell_type": "code",
   "execution_count": 25,
   "metadata": {
    "scrolled": true
   },
   "outputs": [
    {
     "data": {
      "text/plain": [
       "'arjun'"
      ]
     },
     "execution_count": 25,
     "metadata": {},
     "output_type": "execute_result"
    }
   ],
   "source": [
    "l1.pop() # return top most element"
   ]
  },
  {
   "cell_type": "code",
   "execution_count": 28,
   "metadata": {},
   "outputs": [
    {
     "data": {
      "text/plain": [
       "[]"
      ]
     },
     "execution_count": 28,
     "metadata": {},
     "output_type": "execute_result"
    }
   ],
   "source": [
    "l1.clear() # removes all elements\n",
    "l1"
   ]
  },
  {
   "cell_type": "code",
   "execution_count": 29,
   "metadata": {
    "scrolled": true
   },
   "outputs": [
    {
     "ename": "NameError",
     "evalue": "name 'l1' is not defined",
     "output_type": "error",
     "traceback": [
      "\u001b[1;31m---------------------------------------------------------------------------\u001b[0m",
      "\u001b[1;31mNameError\u001b[0m                                 Traceback (most recent call last)",
      "\u001b[1;32m<ipython-input-29-1343550b1c3b>\u001b[0m in \u001b[0;36m<module>\u001b[1;34m()\u001b[0m\n\u001b[0;32m      1\u001b[0m \u001b[1;32mdel\u001b[0m \u001b[0ml1\u001b[0m\u001b[1;33m\u001b[0m\u001b[0m\n\u001b[1;32m----> 2\u001b[1;33m \u001b[0ml1\u001b[0m\u001b[1;33m\u001b[0m\u001b[0m\n\u001b[0m",
      "\u001b[1;31mNameError\u001b[0m: name 'l1' is not defined"
     ]
    }
   ],
   "source": [
    "del l1 # physically removes the l1 object from memory\n",
    "l1 # attempting to access causes NameError, Since the object l1 does not exists"
   ]
  },
  {
   "cell_type": "code",
   "execution_count": 33,
   "metadata": {},
   "outputs": [
    {
     "data": {
      "text/plain": [
       "[1, 2, 3, 4, 5, 6]"
      ]
     },
     "execution_count": 33,
     "metadata": {},
     "output_type": "execute_result"
    }
   ],
   "source": [
    "l1 = [1,2,3]\n",
    "l2 = [4,5,6]\n",
    "l1.extend(l2) # l1 is extended with l2\n",
    "l1\n"
   ]
  },
  {
   "cell_type": "code",
   "execution_count": 35,
   "metadata": {},
   "outputs": [
    {
     "data": {
      "text/plain": [
       "[4, 5, 6]"
      ]
     },
     "execution_count": 35,
     "metadata": {},
     "output_type": "execute_result"
    }
   ],
   "source": [
    "l2"
   ]
  },
  {
   "cell_type": "code",
   "execution_count": 38,
   "metadata": {
    "scrolled": true
   },
   "outputs": [
    {
     "data": {
      "text/plain": [
       "[1, 2, 3, 4, 5, 6]"
      ]
     },
     "execution_count": 38,
     "metadata": {},
     "output_type": "execute_result"
    }
   ],
   "source": [
    "l1.sort()\n",
    "l1"
   ]
  },
  {
   "cell_type": "code",
   "execution_count": 40,
   "metadata": {},
   "outputs": [
    {
     "data": {
      "text/plain": [
       "[6, 5, 4, 3, 2, 1]"
      ]
     },
     "execution_count": 40,
     "metadata": {},
     "output_type": "execute_result"
    }
   ],
   "source": [
    "l1.sort(reverse=True)\n",
    "l1"
   ]
  },
  {
   "cell_type": "code",
   "execution_count": 49,
   "metadata": {},
   "outputs": [
    {
     "data": {
      "text/plain": [
       "False"
      ]
     },
     "execution_count": 49,
     "metadata": {},
     "output_type": "execute_result"
    }
   ],
   "source": [
    "# Function to find an item in a list\n",
    "\n",
    "list1 = [3,1,5,2,8,4]\n",
    "\n",
    "def Search(key):\n",
    "    for i in list1:\n",
    "        if(key == i):\n",
    "            return True\n",
    "    return False\n",
    "Search(10)\n",
    "    "
   ]
  },
  {
   "cell_type": "code",
   "execution_count": 50,
   "metadata": {},
   "outputs": [
    {
     "data": {
      "text/plain": [
       "[]"
      ]
     },
     "execution_count": 50,
     "metadata": {},
     "output_type": "execute_result"
    }
   ],
   "source": [
    "mylist=[]\n",
    "mylist"
   ]
  },
  {
   "cell_type": "code",
   "execution_count": 55,
   "metadata": {},
   "outputs": [
    {
     "name": "stdout",
     "output_type": "stream",
     "text": [
      "1\n"
     ]
    },
    {
     "ename": "IndexError",
     "evalue": "list assignment index out of range",
     "output_type": "error",
     "traceback": [
      "\u001b[1;31m---------------------------------------------------------------------------\u001b[0m",
      "\u001b[1;31mIndexError\u001b[0m                                Traceback (most recent call last)",
      "\u001b[1;32m<ipython-input-55-8835469b82aa>\u001b[0m in \u001b[0;36m<module>\u001b[1;34m()\u001b[0m\n\u001b[0;32m      1\u001b[0m \u001b[1;32mfor\u001b[0m \u001b[0mi\u001b[0m \u001b[1;32min\u001b[0m \u001b[0mrange\u001b[0m\u001b[1;33m(\u001b[0m\u001b[1;36m0\u001b[0m\u001b[1;33m,\u001b[0m\u001b[1;36m5\u001b[0m\u001b[1;33m,\u001b[0m\u001b[1;36m1\u001b[0m\u001b[1;33m)\u001b[0m\u001b[1;33m:\u001b[0m\u001b[1;33m\u001b[0m\u001b[0m\n\u001b[1;32m----> 2\u001b[1;33m     \u001b[0mmylist\u001b[0m\u001b[1;33m[\u001b[0m\u001b[0mi\u001b[0m\u001b[1;33m]\u001b[0m \u001b[1;33m=\u001b[0m \u001b[0minput\u001b[0m\u001b[1;33m(\u001b[0m\u001b[1;33m)\u001b[0m\u001b[1;33m\u001b[0m\u001b[0m\n\u001b[0m",
      "\u001b[1;31mIndexError\u001b[0m: list assignment index out of range"
     ]
    }
   ],
   "source": [
    "for i in range(0,5,1):\n",
    "    mylist[i] = input()"
   ]
  }
 ],
 "metadata": {
  "kernelspec": {
   "display_name": "Python 3",
   "language": "python",
   "name": "python3"
  },
  "language_info": {
   "codemirror_mode": {
    "name": "ipython",
    "version": 3
   },
   "file_extension": ".py",
   "mimetype": "text/x-python",
   "name": "python",
   "nbconvert_exporter": "python",
   "pygments_lexer": "ipython3",
   "version": "3.7.0"
  }
 },
 "nbformat": 4,
 "nbformat_minor": 2
}
